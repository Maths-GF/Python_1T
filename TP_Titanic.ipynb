{
 "cells": [
  {
   "cell_type": "markdown",
   "id": "bfac2a02",
   "metadata": {},
   "source": [
    "# Le Titanic"
   ]
  },
  {
   "cell_type": "markdown",
   "id": "5e169fc5",
   "metadata": {},
   "source": [
    "## I Chargeons les modules et le fichier"
   ]
  },
  {
   "cell_type": "code",
   "execution_count": null,
   "id": "6c611a73",
   "metadata": {},
   "outputs": [],
   "source": [
    "import pandas\n",
    "import matplotlib.pyplot as plt"
   ]
  },
  {
   "cell_type": "markdown",
   "id": "9422a389",
   "metadata": {},
   "source": [
    "- `pandas` sert à traiter des données\n",
    "- `matplotlib.pyplot` sert à tracer des courbes et des diagrammes ; nous l'avons chargé en choisissant en alias `plt` pour ne pas avoir à tout réécrire."
   ]
  },
  {
   "cell_type": "markdown",
   "id": "76b6c8c6",
   "metadata": {},
   "source": [
    "Nous allons charger le fichier `titanic.csv` dans une variable que nous appellerons `df`."
   ]
  },
  {
   "cell_type": "code",
   "execution_count": null,
   "id": "ed610c55",
   "metadata": {},
   "outputs": [],
   "source": [
    "df = pandas.read_csv(\"titanic.csv\", sep=\",\")"
   ]
  },
  {
   "cell_type": "markdown",
   "id": "03f6a8b7",
   "metadata": {},
   "source": [
    "Afficheons le contenu que nous venons de charger."
   ]
  },
  {
   "cell_type": "code",
   "execution_count": null,
   "id": "f8adb8d0",
   "metadata": {},
   "outputs": [],
   "source": [
    "df"
   ]
  },
  {
   "cell_type": "markdown",
   "id": "4085548f",
   "metadata": {},
   "source": [
    "## II Affichons des informations sur le tableau"
   ]
  },
  {
   "cell_type": "markdown",
   "id": "56afffae",
   "metadata": {},
   "source": [
    "Comme vous le voyez, il y a beaucoup trop de lignes et de colonnes pour tout afficher.\n",
    "Nous allons utiliser la méthode `.info()`. Une méthode est appelée depuis la variable sur laquelle on souhaite l'appliquer."
   ]
  },
  {
   "cell_type": "code",
   "execution_count": null,
   "id": "46fa692e",
   "metadata": {},
   "outputs": [],
   "source": [
    "df.info()"
   ]
  },
  {
   "cell_type": "markdown",
   "id": "d63655c6",
   "metadata": {},
   "source": [
    "__Question__ : Quelle colonne ne contient que 714 valeurs ? Quelle colonne ne contient que 204 valeurs ?"
   ]
  },
  {
   "cell_type": "markdown",
   "id": "18889a68",
   "metadata": {},
   "source": [
    "Réponse : "
   ]
  },
  {
   "cell_type": "markdown",
   "id": "a57438ca",
   "metadata": {},
   "source": [
    "## III Modifions le tableau"
   ]
  },
  {
   "cell_type": "markdown",
   "id": "1f2a2cb9",
   "metadata": {},
   "source": [
    "Nous allons supprimer les colonnes inutiles.\n",
    "Par exemple, pour supprimer la colonne `Embarked` :"
   ]
  },
  {
   "cell_type": "code",
   "execution_count": null,
   "id": "96cc6cae",
   "metadata": {},
   "outputs": [],
   "source": [
    "df.drop(labels=\"Embarked\", axis=1, inplace=True)"
   ]
  },
  {
   "cell_type": "code",
   "execution_count": null,
   "id": "e12c5cbf",
   "metadata": {},
   "outputs": [],
   "source": [
    "df.info()"
   ]
  },
  {
   "cell_type": "markdown",
   "id": "b5e04e28",
   "metadata": {},
   "source": [
    "- `labels` doit être le nom de la colonne à supprimer (entre crochets s'il y en a plusieurs, par exemple `labels=[\"Name\", \"Age\"]`\n",
    "- `axis` doit être soit 0 si on veut supprimer une ligne soit __1 si on veut supprimer une colonne__.\n",
    "- `inplace=True` signifie que le changement est fait dans le tableau chargé dans `df`, sinon la méthode `.drop()`crée une copie."
   ]
  },
  {
   "cell_type": "markdown",
   "id": "2e23bfbd",
   "metadata": {},
   "source": [
    "__Question__ : Supprimer la colonne Cabin qui n'a pas assez de valeurs pour être utile."
   ]
  },
  {
   "cell_type": "code",
   "execution_count": null,
   "id": "15bdab7c",
   "metadata": {},
   "outputs": [],
   "source": [
    "# Tapez votre code sur les lignes suivantes :\n",
    "\n",
    "\n",
    "\n",
    "# la dernière ligne affiche le nom des colonnes pour vérifier votre réponse\n",
    "assert df.shape[1] == 10"
   ]
  },
  {
   "cell_type": "markdown",
   "id": "7392d72b",
   "metadata": {},
   "source": [
    "La colonne Age manque aussi beaucoup de données ; nous allons décider de remplacer celles qui manquent par la médiane des autres."
   ]
  },
  {
   "cell_type": "markdown",
   "id": "81fd642a",
   "metadata": {},
   "source": [
    "Pour afficher les indicateurs statistiques (moyenne, médiane, ...) du tableau, nous avons la méthode `.describe()` qui essaie de donner le plus d'indicateurs possibles."
   ]
  },
  {
   "cell_type": "code",
   "execution_count": null,
   "id": "cb04556b",
   "metadata": {},
   "outputs": [],
   "source": [
    "df.describe()"
   ]
  },
  {
   "cell_type": "markdown",
   "id": "c1631fca",
   "metadata": {},
   "source": [
    "Sinon, nous pouvons utiliser les méthodes :\n",
    "- `.mean()` pour la moyenne\n",
    "- `.median()` pour la médiane\n",
    "Pour cela, on se limite à une ou plusieurs colonnes comme l'exemple ci-dessous :"
   ]
  },
  {
   "cell_type": "code",
   "execution_count": null,
   "id": "0c097d9e",
   "metadata": {},
   "outputs": [],
   "source": [
    "# Pour afficher la moyenne de la colonne Fare :\n",
    "print(df[\"Fare\"].mean())"
   ]
  },
  {
   "cell_type": "code",
   "execution_count": null,
   "id": "226aaa51",
   "metadata": {},
   "outputs": [],
   "source": [
    "# Pour afficher la médiane des colonnes Fare et SibSp :\n",
    "print(df[[\"Fare\", \"SibSp\"]].median())"
   ]
  },
  {
   "cell_type": "markdown",
   "id": "fbf6c2d4",
   "metadata": {},
   "source": [
    "__Question__ : En utilisant le code de votre choix, donnez la médiane des âges."
   ]
  },
  {
   "cell_type": "code",
   "execution_count": null,
   "id": "ed8d556c",
   "metadata": {},
   "outputs": [],
   "source": [
    "# Votre code, sur les lignes suivantes :\n"
   ]
  },
  {
   "cell_type": "code",
   "execution_count": null,
   "id": "23a36926",
   "metadata": {},
   "outputs": [],
   "source": [
    "Réponse : "
   ]
  },
  {
   "cell_type": "markdown",
   "id": "91d709e7",
   "metadata": {},
   "source": [
    "Remplissons désormais la colonne Age avec cette médiane grâce à la méthode `.fillna()`.\n",
    "Pour cela, voici un exemple :"
   ]
  },
  {
   "cell_type": "code",
   "execution_count": null,
   "id": "f9898faf",
   "metadata": {},
   "outputs": [],
   "source": [
    "# Pour remplir les valeurs manquantes de la colonne Fare (il n'en manque aucune mais c'est pour l'exemple)\n",
    "df[\"Fare\"].fillna(0, inplace=True)\n",
    "# On se limite à la colonne : df[\"Fare\"]\n",
    "# On appelle la méthode .fillna()\n",
    "# On donne en premier argument (dans les parenthèses) la valeur de remplissage\n",
    "# Enfin, n'oubliez pas inplace=True"
   ]
  },
  {
   "cell_type": "markdown",
   "id": "c1d1a5aa",
   "metadata": {},
   "source": [
    "__Question__ : Remplissez la colonne `Age` avec la médiane que vous avez trouvez."
   ]
  },
  {
   "cell_type": "code",
   "execution_count": null,
   "id": "acbb4d40",
   "metadata": {},
   "outputs": [],
   "source": [
    "# Votre code sur les lignes suivantes :\n",
    "\n",
    "\n",
    "\n",
    "# Pour vérifier si toutes les cases sont remplies, cela doit vous affichez 891\n",
    "assert df[\"Age\"].count()== 891\n",
    "assert int(df[\"Age\"].mode()[0]) == 28"
   ]
  },
  {
   "cell_type": "markdown",
   "id": "4252e2b8",
   "metadata": {},
   "source": [
    "## IV Tableaux croisés"
   ]
  },
  {
   "cell_type": "markdown",
   "id": "1159627c",
   "metadata": {},
   "source": [
    "Le code suivant recharge tout et modifie le tableau correctement pour la suite."
   ]
  },
  {
   "cell_type": "code",
   "execution_count": null,
   "id": "c2a8c2f2",
   "metadata": {},
   "outputs": [],
   "source": [
    "# Ce code sert à remettre le tableau à 0 en remplaçant les âges manquant par la médiane\n",
    "import pandas\n",
    "import matplotlib.pyplot as plt\n",
    "df = pandas.read_csv(\"titanic.csv\", sep=\",\")\n",
    "df[\"Age\"].fillna(df[\"Age\"].median(), inplace=True)"
   ]
  },
  {
   "cell_type": "markdown",
   "id": "1c37d469",
   "metadata": {},
   "source": [
    "Pour faire un tableau croisé, voici plusieurs exemples :"
   ]
  },
  {
   "cell_type": "code",
   "execution_count": null,
   "id": "5f600f66",
   "metadata": {},
   "outputs": [],
   "source": [
    "pandas.crosstab(df[\"Pclass\"], df[\"Embarked\"])"
   ]
  },
  {
   "cell_type": "code",
   "execution_count": null,
   "id": "2e445a2d",
   "metadata": {},
   "outputs": [],
   "source": [
    "pandas.crosstab(df[\"Pclass\"], df[\"Embarked\"], margins=True)"
   ]
  },
  {
   "cell_type": "code",
   "execution_count": null,
   "id": "c7a4b61f",
   "metadata": {},
   "outputs": [],
   "source": [
    "pandas.crosstab(df[\"Pclass\"], df[\"Embarked\"], margins=True, normalize=\"all\")"
   ]
  },
  {
   "cell_type": "code",
   "execution_count": null,
   "id": "93469998",
   "metadata": {},
   "outputs": [],
   "source": [
    "pandas.crosstab([df[\"Pclass\"], df[\"SibSp\"]], df[\"Embarked\"], margins=True)"
   ]
  },
  {
   "cell_type": "markdown",
   "id": "dee7aa81",
   "metadata": {},
   "source": [
    "La fonction `pandas.crosstab()` exige deux arguments :\n",
    "- en premier ce que vous allez mettre en ligne\n",
    "- en deuxième ce que vous allez mettre en colonne\n",
    "\n",
    "Il existe d'autres arguments optionnels :\n",
    "- `margins=True` fait apparaître les marges (Total)\n",
    "- `normalize='all'` donne les fréquences au lieu des effectifs ; il existe aussi `normalize='index'` ou `normalize='columns'` pour afficher les fréquences conditionnelles en lignes ou en colonnes respectivement"
   ]
  },
  {
   "cell_type": "markdown",
   "id": "ba8e3313",
   "metadata": {},
   "source": [
    "__Question__ : Affichez le tableau croisé des survivants (en colonnes) par rapport au sexe (en lignes). __Affichez toujours la marge.__\n",
    "Vous ferez trois tableaux comme précisé dans les cases ci-dessous."
   ]
  },
  {
   "cell_type": "code",
   "execution_count": null,
   "id": "42400a77",
   "metadata": {},
   "outputs": [],
   "source": [
    "# À la ligne suivante, faites les tableau des fréquences :\n"
   ]
  },
  {
   "cell_type": "code",
   "execution_count": null,
   "id": "aea0e408",
   "metadata": {},
   "outputs": [],
   "source": [
    "# À la ligne suivante, faites les tableau des fréquences conditionnelles en ligne :\n"
   ]
  },
  {
   "cell_type": "code",
   "execution_count": null,
   "id": "048f701f",
   "metadata": {},
   "outputs": [],
   "source": [
    "# À la ligne suivante, faites les tableau des fréquences conditionnelles en colonne :\n"
   ]
  },
  {
   "cell_type": "markdown",
   "id": "cf1fe022",
   "metadata": {},
   "source": [
    "__Question__ : Répondez aux questions ci-dessous."
   ]
  },
  {
   "cell_type": "markdown",
   "id": "1f8b58ac",
   "metadata": {},
   "source": [
    "Fréquence marginale des hommes : \n",
    "\n",
    "Fréquence conditionnelle des survivants parmi les femmes : \n",
    "\n",
    "Fréquence conditionnelle des hommes parmi les survivants : "
   ]
  },
  {
   "cell_type": "markdown",
   "id": "7ad1278a",
   "metadata": {},
   "source": [
    "## V Tableau croisé par intervalles"
   ]
  },
  {
   "cell_type": "markdown",
   "id": "19a5116c",
   "metadata": {},
   "source": [
    "Nous allons afficher les fréquences de survie selon le sexe __et__ l'âge.\n",
    "Pour cela, nous allons découper la colonne Age en intervalles de 25 ans."
   ]
  },
  {
   "cell_type": "markdown",
   "id": "bce6c410",
   "metadata": {},
   "source": [
    "Pour découper une coloone, on utilise la fonction `pandas.cut()` qui prend en premier argument la colonne à découper.\n",
    "\n",
    "Elle possède un autre argument `bins` qu'on peut régler sur la découpe souhaitée. Par exemple :"
   ]
  },
  {
   "cell_type": "code",
   "execution_count": null,
   "id": "02d4e5c9",
   "metadata": {},
   "outputs": [],
   "source": [
    "pandas.cut(df[\"Age\"], bins=[0,25,50,75,100])"
   ]
  },
  {
   "cell_type": "markdown",
   "id": "63f8c7c5",
   "metadata": {},
   "source": [
    "Vous observez que l'âge a été remplacé par le bon intervalle. Utilisons donc cela dans un tableau croisé."
   ]
  },
  {
   "cell_type": "code",
   "execution_count": null,
   "id": "1d1f014c",
   "metadata": {},
   "outputs": [],
   "source": [
    "pandas.crosstab([pandas.cut(df[\"Age\"], bins=[0,25,50,75,100]), df[\"Sex\"]], df[\"Survived\"], margins=True)"
   ]
  },
  {
   "cell_type": "markdown",
   "id": "86a1c406",
   "metadata": {},
   "source": [
    "__Question__ : En copiant et modifiant le code ci-dessus, faites ce qui est demandé."
   ]
  },
  {
   "cell_type": "code",
   "execution_count": null,
   "id": "006fcb25",
   "metadata": {},
   "outputs": [],
   "source": [
    "# À la ligne suivante, faites les tableau des fréquences conditionnelles en ligne :\n"
   ]
  },
  {
   "cell_type": "code",
   "execution_count": null,
   "id": "eda00d1d",
   "metadata": {},
   "outputs": [],
   "source": [
    "# À la ligne suivante, faites les tableau des fréquences conditionnelles en colonnes :\n"
   ]
  },
  {
   "cell_type": "markdown",
   "id": "5a926545",
   "metadata": {},
   "source": [
    "__Question__ : Répondez aux questions suivantes."
   ]
  },
  {
   "cell_type": "markdown",
   "id": "9fe4e112",
   "metadata": {},
   "source": [
    "Donnez les fréquences conditionnelles\n",
    "\n",
    "des survivants parmi les femmes de 25 ans ou moins : \n",
    "des survivants parmi les femmes de 25 à 50 ans : \n",
    "des survivants parmi les femmes de 50 à 75 ans : \n",
    "des survivants parmi les hommes de 25 ans ou moins : \n",
    "des survivants parmi les hommes de 25 à 50 ans : \n",
    "des survivants parmi les hommes de 50 à 75 ans : \n",
    "des hommes de 25 ou moins parmi les survivants : \n",
    "des femmes de 25 ou moins parmi les survivants : "
   ]
  },
  {
   "cell_type": "markdown",
   "id": "f4804074",
   "metadata": {},
   "source": [
    "## VI Histogramme"
   ]
  },
  {
   "cell_type": "markdown",
   "id": "feb4aabf",
   "metadata": {},
   "source": [
    "La ligne suivante dresse l'histogramme des survivants selon le sexe et l'âge."
   ]
  },
  {
   "cell_type": "code",
   "execution_count": null,
   "id": "e77670ff",
   "metadata": {},
   "outputs": [],
   "source": [
    "df.pivot(columns=[\"Survived\", \"Sex\"])[\"Age\"].plot.hist(stacked=True, bins=[0,10,20,30,40,50,60,70,80,90,100])"
   ]
  },
  {
   "cell_type": "markdown",
   "id": "b345ccd4",
   "metadata": {},
   "source": [
    "__Question__ : Quelle couleur représente les hommes survivants dans votre histogramme ?"
   ]
  },
  {
   "cell_type": "markdown",
   "id": "ec0d76b9",
   "metadata": {},
   "source": [
    "Réponse : "
   ]
  }
 ],
 "metadata": {
  "kernelspec": {
   "display_name": "Python 3 (ipykernel)",
   "language": "python",
   "name": "python3"
  },
  "language_info": {
   "codemirror_mode": {
    "name": "ipython",
    "version": 3
   },
   "file_extension": ".py",
   "mimetype": "text/x-python",
   "name": "python",
   "nbconvert_exporter": "python",
   "pygments_lexer": "ipython3",
   "version": "3.7.10"
  }
 },
 "nbformat": 4,
 "nbformat_minor": 5
}
