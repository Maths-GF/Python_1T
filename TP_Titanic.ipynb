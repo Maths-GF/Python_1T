{
 "cells": [
  {
   "cell_type": "markdown",
   "id": "bfac2a02",
   "metadata": {},
   "source": [
    "# Le Titanic"
   ]
  },
  {
   "cell_type": "markdown",
   "id": "5e169fc5",
   "metadata": {},
   "source": [
    "## I Chargeons les modules et le fichier"
   ]
  },
  {
   "cell_type": "code",
   "execution_count": 1,
   "id": "6c611a73",
   "metadata": {},
   "outputs": [],
   "source": [
    "import pandas\n",
    "import matplotlib.pyplot as plt"
   ]
  },
  {
   "cell_type": "markdown",
   "id": "9422a389",
   "metadata": {},
   "source": [
    "- `pandas` sert à traiter des données\n",
    "- `matplotlib.pyplot` sert à tracer des courbes et des diagrammes ; nous l'avons chargé en choisissant en alias `plt` pour ne pas avoir à tout réécrire."
   ]
  },
  {
   "cell_type": "markdown",
   "id": "76b6c8c6",
   "metadata": {},
   "source": [
    "Nous allons charger le fichier `titanic.csv` dans une variable que nous appellerons `df`."
   ]
  },
  {
   "cell_type": "code",
   "execution_count": 28,
   "id": "ed610c55",
   "metadata": {},
   "outputs": [],
   "source": [
    "df = pandas.read_csv(\"titanic.csv\", sep=\",\")"
   ]
  },
  {
   "cell_type": "markdown",
   "id": "03f6a8b7",
   "metadata": {},
   "source": [
    "Afficheons le contenu que nous venons de charger."
   ]
  },
  {
   "cell_type": "code",
   "execution_count": 3,
   "id": "f8adb8d0",
   "metadata": {},
   "outputs": [
    {
     "name": "stdout",
     "output_type": "stream",
     "text": [
      "     PassengerId  Survived  Pclass  \\\n",
      "0              1         0       3   \n",
      "1              2         1       1   \n",
      "2              3         1       3   \n",
      "3              4         1       1   \n",
      "4              5         0       3   \n",
      "..           ...       ...     ...   \n",
      "886          887         0       2   \n",
      "887          888         1       1   \n",
      "888          889         0       3   \n",
      "889          890         1       1   \n",
      "890          891         0       3   \n",
      "\n",
      "                                                  Name     Sex   Age  SibSp  \\\n",
      "0                              Braund, Mr. Owen Harris    male  22.0      1   \n",
      "1    Cumings, Mrs. John Bradley (Florence Briggs Th...  female  38.0      1   \n",
      "2                               Heikkinen, Miss. Laina  female  26.0      0   \n",
      "3         Futrelle, Mrs. Jacques Heath (Lily May Peel)  female  35.0      1   \n",
      "4                             Allen, Mr. William Henry    male  35.0      0   \n",
      "..                                                 ...     ...   ...    ...   \n",
      "886                              Montvila, Rev. Juozas    male  27.0      0   \n",
      "887                       Graham, Miss. Margaret Edith  female  19.0      0   \n",
      "888           Johnston, Miss. Catherine Helen \"Carrie\"  female   NaN      1   \n",
      "889                              Behr, Mr. Karl Howell    male  26.0      0   \n",
      "890                                Dooley, Mr. Patrick    male  32.0      0   \n",
      "\n",
      "     Parch            Ticket     Fare Cabin Embarked  \n",
      "0        0         A/5 21171   7.2500   NaN        S  \n",
      "1        0          PC 17599  71.2833   C85        C  \n",
      "2        0  STON/O2. 3101282   7.9250   NaN        S  \n",
      "3        0            113803  53.1000  C123        S  \n",
      "4        0            373450   8.0500   NaN        S  \n",
      "..     ...               ...      ...   ...      ...  \n",
      "886      0            211536  13.0000   NaN        S  \n",
      "887      0            112053  30.0000   B42        S  \n",
      "888      2        W./C. 6607  23.4500   NaN        S  \n",
      "889      0            111369  30.0000  C148        C  \n",
      "890      0            370376   7.7500   NaN        Q  \n",
      "\n",
      "[891 rows x 12 columns]\n"
     ]
    }
   ],
   "source": [
    "print(df)"
   ]
  },
  {
   "cell_type": "markdown",
   "id": "4085548f",
   "metadata": {},
   "source": [
    "## II Affichons des informations sur le tableau"
   ]
  },
  {
   "cell_type": "markdown",
   "id": "56afffae",
   "metadata": {},
   "source": [
    "Comme vous le voyez, il y a beaucoup trop de lignes et de colonnes pour tout afficher.\n",
    "Nous allons utiliser la méthode `.info()`. Une méthode est appelée depuis la variable sur laquelle on souhaite l'appliquer."
   ]
  },
  {
   "cell_type": "code",
   "execution_count": 4,
   "id": "46fa692e",
   "metadata": {},
   "outputs": [
    {
     "name": "stdout",
     "output_type": "stream",
     "text": [
      "<class 'pandas.core.frame.DataFrame'>\n",
      "RangeIndex: 891 entries, 0 to 890\n",
      "Data columns (total 12 columns):\n",
      " #   Column       Non-Null Count  Dtype  \n",
      "---  ------       --------------  -----  \n",
      " 0   PassengerId  891 non-null    int64  \n",
      " 1   Survived     891 non-null    int64  \n",
      " 2   Pclass       891 non-null    int64  \n",
      " 3   Name         891 non-null    object \n",
      " 4   Sex          891 non-null    object \n",
      " 5   Age          714 non-null    float64\n",
      " 6   SibSp        891 non-null    int64  \n",
      " 7   Parch        891 non-null    int64  \n",
      " 8   Ticket       891 non-null    object \n",
      " 9   Fare         891 non-null    float64\n",
      " 10  Cabin        204 non-null    object \n",
      " 11  Embarked     889 non-null    object \n",
      "dtypes: float64(2), int64(5), object(5)\n",
      "memory usage: 83.7+ KB\n"
     ]
    }
   ],
   "source": [
    "df.info()"
   ]
  },
  {
   "cell_type": "markdown",
   "id": "d63655c6",
   "metadata": {},
   "source": [
    "__Question__ : Quelle colonne ne contient que 714 valeurs ? Quelle colonne ne contient que 204 valeurs ?"
   ]
  },
  {
   "cell_type": "markdown",
   "id": "18889a68",
   "metadata": {},
   "source": [
    "Réponse : "
   ]
  },
  {
   "cell_type": "markdown",
   "id": "a57438ca",
   "metadata": {},
   "source": [
    "## III Modifions le tableau"
   ]
  },
  {
   "cell_type": "markdown",
   "id": "1f2a2cb9",
   "metadata": {},
   "source": [
    "Nous allons supprimer les colonnes inutiles.\n",
    "Par exemple, pour supprimer la colonne `Embarked` :"
   ]
  },
  {
   "cell_type": "code",
   "execution_count": 5,
   "id": "96cc6cae",
   "metadata": {},
   "outputs": [],
   "source": [
    "df.drop(labels=\"Embarked\", axis=1, inplace=True)"
   ]
  },
  {
   "cell_type": "code",
   "execution_count": 6,
   "id": "e12c5cbf",
   "metadata": {},
   "outputs": [
    {
     "name": "stdout",
     "output_type": "stream",
     "text": [
      "<class 'pandas.core.frame.DataFrame'>\n",
      "RangeIndex: 891 entries, 0 to 890\n",
      "Data columns (total 11 columns):\n",
      " #   Column       Non-Null Count  Dtype  \n",
      "---  ------       --------------  -----  \n",
      " 0   PassengerId  891 non-null    int64  \n",
      " 1   Survived     891 non-null    int64  \n",
      " 2   Pclass       891 non-null    int64  \n",
      " 3   Name         891 non-null    object \n",
      " 4   Sex          891 non-null    object \n",
      " 5   Age          714 non-null    float64\n",
      " 6   SibSp        891 non-null    int64  \n",
      " 7   Parch        891 non-null    int64  \n",
      " 8   Ticket       891 non-null    object \n",
      " 9   Fare         891 non-null    float64\n",
      " 10  Cabin        204 non-null    object \n",
      "dtypes: float64(2), int64(5), object(4)\n",
      "memory usage: 76.7+ KB\n"
     ]
    }
   ],
   "source": [
    "df.info()"
   ]
  },
  {
   "cell_type": "markdown",
   "id": "b5e04e28",
   "metadata": {},
   "source": [
    "- `labels` doit être le nom de la colonne à supprimer (entre crochets s'il y en a plusieurs, par exemple `labels=[\"Name\", \"Age\"]`\n",
    "- `axis` doit être soit 0 si on veut supprimer une ligne soit __1 si on veut supprimer une colonne__.\n",
    "- `inplace=True` signifie que le changement est fait dans le tableau chargé dans `df`, sinon la méthode `.drop()`crée une copie."
   ]
  },
  {
   "cell_type": "markdown",
   "id": "2e23bfbd",
   "metadata": {},
   "source": [
    "__Question__ : Supprimer la colonne Cabin qui n'a pas assez de valeurs pour être utile."
   ]
  },
  {
   "cell_type": "code",
   "execution_count": 40,
   "id": "15bdab7c",
   "metadata": {},
   "outputs": [
    {
     "ename": "AssertionError",
     "evalue": "",
     "output_type": "error",
     "traceback": [
      "\u001b[1;31m---------------------------------------------------------------------------\u001b[0m",
      "\u001b[1;31mAssertionError\u001b[0m                            Traceback (most recent call last)",
      "\u001b[1;32m<ipython-input-40-39744789efcf>\u001b[0m in \u001b[0;36m<module>\u001b[1;34m\u001b[0m\n\u001b[0;32m      4\u001b[0m \u001b[1;33m\u001b[0m\u001b[0m\n\u001b[0;32m      5\u001b[0m \u001b[1;31m# la dernière ligne affiche le nom des colonnes pour vérifier votre réponse\u001b[0m\u001b[1;33m\u001b[0m\u001b[1;33m\u001b[0m\u001b[0m\n\u001b[1;32m----> 6\u001b[1;33m \u001b[1;32massert\u001b[0m \u001b[0mdf\u001b[0m\u001b[1;33m.\u001b[0m\u001b[0mshape\u001b[0m\u001b[1;33m[\u001b[0m\u001b[1;36m1\u001b[0m\u001b[1;33m]\u001b[0m \u001b[1;33m==\u001b[0m \u001b[1;36m11\u001b[0m\u001b[1;33m\u001b[0m\u001b[1;33m\u001b[0m\u001b[0m\n\u001b[0m",
      "\u001b[1;31mAssertionError\u001b[0m: "
     ]
    }
   ],
   "source": [
    "# Tapez votre code sur les lignes suivantes :\n",
    "\n",
    "\n",
    "\n",
    "# la dernière ligne affiche le nom des colonnes pour vérifier votre réponse\n",
    "assert df.shape[1] == 11"
   ]
  },
  {
   "cell_type": "markdown",
   "id": "7392d72b",
   "metadata": {},
   "source": [
    "La colonne Age manque aussi beaucoup de données ; nous allons décider de remplacer celles qui manquent par la médiane des autres."
   ]
  },
  {
   "cell_type": "markdown",
   "id": "81fd642a",
   "metadata": {},
   "source": [
    "Pour afficher les indicateurs statistiques (moyenne, médiane, ...) du tableau, nous avons la méthode `.describe()` qui essaie de donner le plus d'indicateurs possibles."
   ]
  },
  {
   "cell_type": "code",
   "execution_count": 13,
   "id": "cb04556b",
   "metadata": {},
   "outputs": [
    {
     "data": {
      "text/html": [
       "<div>\n",
       "<style scoped>\n",
       "    .dataframe tbody tr th:only-of-type {\n",
       "        vertical-align: middle;\n",
       "    }\n",
       "\n",
       "    .dataframe tbody tr th {\n",
       "        vertical-align: top;\n",
       "    }\n",
       "\n",
       "    .dataframe thead th {\n",
       "        text-align: right;\n",
       "    }\n",
       "</style>\n",
       "<table border=\"1\" class=\"dataframe\">\n",
       "  <thead>\n",
       "    <tr style=\"text-align: right;\">\n",
       "      <th></th>\n",
       "      <th>PassengerId</th>\n",
       "      <th>Survived</th>\n",
       "      <th>Pclass</th>\n",
       "      <th>Age</th>\n",
       "      <th>SibSp</th>\n",
       "      <th>Parch</th>\n",
       "      <th>Fare</th>\n",
       "    </tr>\n",
       "  </thead>\n",
       "  <tbody>\n",
       "    <tr>\n",
       "      <th>count</th>\n",
       "      <td>891.000000</td>\n",
       "      <td>891.000000</td>\n",
       "      <td>891.000000</td>\n",
       "      <td>714.000000</td>\n",
       "      <td>891.000000</td>\n",
       "      <td>891.000000</td>\n",
       "      <td>891.000000</td>\n",
       "    </tr>\n",
       "    <tr>\n",
       "      <th>mean</th>\n",
       "      <td>446.000000</td>\n",
       "      <td>0.383838</td>\n",
       "      <td>2.308642</td>\n",
       "      <td>29.699118</td>\n",
       "      <td>0.523008</td>\n",
       "      <td>0.381594</td>\n",
       "      <td>32.204208</td>\n",
       "    </tr>\n",
       "    <tr>\n",
       "      <th>std</th>\n",
       "      <td>257.353842</td>\n",
       "      <td>0.486592</td>\n",
       "      <td>0.836071</td>\n",
       "      <td>14.526497</td>\n",
       "      <td>1.102743</td>\n",
       "      <td>0.806057</td>\n",
       "      <td>49.693429</td>\n",
       "    </tr>\n",
       "    <tr>\n",
       "      <th>min</th>\n",
       "      <td>1.000000</td>\n",
       "      <td>0.000000</td>\n",
       "      <td>1.000000</td>\n",
       "      <td>0.420000</td>\n",
       "      <td>0.000000</td>\n",
       "      <td>0.000000</td>\n",
       "      <td>0.000000</td>\n",
       "    </tr>\n",
       "    <tr>\n",
       "      <th>25%</th>\n",
       "      <td>223.500000</td>\n",
       "      <td>0.000000</td>\n",
       "      <td>2.000000</td>\n",
       "      <td>20.125000</td>\n",
       "      <td>0.000000</td>\n",
       "      <td>0.000000</td>\n",
       "      <td>7.910400</td>\n",
       "    </tr>\n",
       "    <tr>\n",
       "      <th>50%</th>\n",
       "      <td>446.000000</td>\n",
       "      <td>0.000000</td>\n",
       "      <td>3.000000</td>\n",
       "      <td>28.000000</td>\n",
       "      <td>0.000000</td>\n",
       "      <td>0.000000</td>\n",
       "      <td>14.454200</td>\n",
       "    </tr>\n",
       "    <tr>\n",
       "      <th>75%</th>\n",
       "      <td>668.500000</td>\n",
       "      <td>1.000000</td>\n",
       "      <td>3.000000</td>\n",
       "      <td>38.000000</td>\n",
       "      <td>1.000000</td>\n",
       "      <td>0.000000</td>\n",
       "      <td>31.000000</td>\n",
       "    </tr>\n",
       "    <tr>\n",
       "      <th>max</th>\n",
       "      <td>891.000000</td>\n",
       "      <td>1.000000</td>\n",
       "      <td>3.000000</td>\n",
       "      <td>80.000000</td>\n",
       "      <td>8.000000</td>\n",
       "      <td>6.000000</td>\n",
       "      <td>512.329200</td>\n",
       "    </tr>\n",
       "  </tbody>\n",
       "</table>\n",
       "</div>"
      ],
      "text/plain": [
       "       PassengerId    Survived      Pclass         Age       SibSp  \\\n",
       "count   891.000000  891.000000  891.000000  714.000000  891.000000   \n",
       "mean    446.000000    0.383838    2.308642   29.699118    0.523008   \n",
       "std     257.353842    0.486592    0.836071   14.526497    1.102743   \n",
       "min       1.000000    0.000000    1.000000    0.420000    0.000000   \n",
       "25%     223.500000    0.000000    2.000000   20.125000    0.000000   \n",
       "50%     446.000000    0.000000    3.000000   28.000000    0.000000   \n",
       "75%     668.500000    1.000000    3.000000   38.000000    1.000000   \n",
       "max     891.000000    1.000000    3.000000   80.000000    8.000000   \n",
       "\n",
       "            Parch        Fare  \n",
       "count  891.000000  891.000000  \n",
       "mean     0.381594   32.204208  \n",
       "std      0.806057   49.693429  \n",
       "min      0.000000    0.000000  \n",
       "25%      0.000000    7.910400  \n",
       "50%      0.000000   14.454200  \n",
       "75%      0.000000   31.000000  \n",
       "max      6.000000  512.329200  "
      ]
     },
     "execution_count": 13,
     "metadata": {},
     "output_type": "execute_result"
    }
   ],
   "source": [
    "df.describe()"
   ]
  },
  {
   "cell_type": "markdown",
   "id": "c1631fca",
   "metadata": {},
   "source": [
    "Sinon, nous pouvons utiliser les méthodes :\n",
    "- `.mean()` pour la moyenne\n",
    "- `.median()` pour la médiane\n",
    "Pour cela, on se limite à une ou plusieurs colonnes comme l'exemple ci-dessous :"
   ]
  },
  {
   "cell_type": "code",
   "execution_count": 18,
   "id": "0c097d9e",
   "metadata": {},
   "outputs": [
    {
     "name": "stdout",
     "output_type": "stream",
     "text": [
      "32.204207968574636\n"
     ]
    }
   ],
   "source": [
    "# Pour afficher la moyenne de la colonne Fare :\n",
    "print(df[\"Fare\"].mean())"
   ]
  },
  {
   "cell_type": "code",
   "execution_count": 19,
   "id": "226aaa51",
   "metadata": {},
   "outputs": [
    {
     "name": "stdout",
     "output_type": "stream",
     "text": [
      "Fare     14.4542\n",
      "SibSp     0.0000\n",
      "dtype: float64\n"
     ]
    }
   ],
   "source": [
    "# Pour afficher la médiane des colonnes Fare et SibSp :\n",
    "print(df[[\"Fare\", \"SibSp\"]].median())"
   ]
  },
  {
   "cell_type": "markdown",
   "id": "fbf6c2d4",
   "metadata": {},
   "source": [
    "__Question__ : En utilisant le code de votre choix, donnez la médiane des âges."
   ]
  },
  {
   "cell_type": "code",
   "execution_count": null,
   "id": "ed8d556c",
   "metadata": {},
   "outputs": [],
   "source": [
    "# Votre code, sur les lignes suivantes :\n"
   ]
  },
  {
   "cell_type": "code",
   "execution_count": null,
   "id": "23a36926",
   "metadata": {},
   "outputs": [],
   "source": [
    "Réponse : "
   ]
  },
  {
   "cell_type": "markdown",
   "id": "91d709e7",
   "metadata": {},
   "source": [
    "Remplissons désormais la colonne Age avec cette médiane grâce à la méthode `.fillna()`.\n",
    "Pour cela, voici un exemple :"
   ]
  },
  {
   "cell_type": "code",
   "execution_count": 21,
   "id": "f9898faf",
   "metadata": {},
   "outputs": [],
   "source": [
    "# Pour remplir les valeurs manquantes de la colonne Fare (il n'en manque aucune mais c'est pour l'exemple)\n",
    "df[\"Fare\"].fillna(0, inplace=True)\n",
    "# On se limite à la colonne : df[\"Fare\"]\n",
    "# On appelle la méthode .fillna()\n",
    "# On donne en premier argument (dans les parenthèses) la valeur de remplissage\n",
    "# Enfin, n'oubliez pas inplace=True"
   ]
  },
  {
   "cell_type": "markdown",
   "id": "c1d1a5aa",
   "metadata": {},
   "source": [
    "__Question__ : Remplissez la colonne `Age` avec la médiane que vous avez trouvez."
   ]
  },
  {
   "cell_type": "code",
   "execution_count": 37,
   "id": "acbb4d40",
   "metadata": {},
   "outputs": [],
   "source": [
    "# Votre code sur les lignes suivantes :\n",
    "\n",
    "\n",
    "\n",
    "# Pour vérifier si toutes les cases sont remplies, cela doit vous affichez 891\n",
    "assert df[\"Age\"].count()== 891\n",
    "assert df[\"Age\"].mode()[0] == 28.0"
   ]
  },
  {
   "cell_type": "markdown",
   "id": "4252e2b8",
   "metadata": {},
   "source": [
    "## IV Tableaux croisés"
   ]
  },
  {
   "cell_type": "markdown",
   "id": "1159627c",
   "metadata": {},
   "source": [
    "Le code suivant recharge tout et modifie le tableau correctement pour la suite."
   ]
  },
  {
   "cell_type": "code",
   "execution_count": 41,
   "id": "c2a8c2f2",
   "metadata": {},
   "outputs": [],
   "source": [
    "import pandas\n",
    "import matplotlib.pyplot as plt\n",
    "df = pandas.read_csv(\"titanic.csv\", sep=\",\")\n",
    "df[\"Age\"].fillna(df[\"Age\"].median(), inplace=True)"
   ]
  },
  {
   "cell_type": "markdown",
   "id": "1c37d469",
   "metadata": {},
   "source": [
    "Pour faire un tableau croisé, voici plusieurs exemples :"
   ]
  },
  {
   "cell_type": "code",
   "execution_count": 42,
   "id": "5f600f66",
   "metadata": {},
   "outputs": [
    {
     "data": {
      "text/html": [
       "<div>\n",
       "<style scoped>\n",
       "    .dataframe tbody tr th:only-of-type {\n",
       "        vertical-align: middle;\n",
       "    }\n",
       "\n",
       "    .dataframe tbody tr th {\n",
       "        vertical-align: top;\n",
       "    }\n",
       "\n",
       "    .dataframe thead th {\n",
       "        text-align: right;\n",
       "    }\n",
       "</style>\n",
       "<table border=\"1\" class=\"dataframe\">\n",
       "  <thead>\n",
       "    <tr style=\"text-align: right;\">\n",
       "      <th>Embarked</th>\n",
       "      <th>C</th>\n",
       "      <th>Q</th>\n",
       "      <th>S</th>\n",
       "    </tr>\n",
       "    <tr>\n",
       "      <th>Pclass</th>\n",
       "      <th></th>\n",
       "      <th></th>\n",
       "      <th></th>\n",
       "    </tr>\n",
       "  </thead>\n",
       "  <tbody>\n",
       "    <tr>\n",
       "      <th>1</th>\n",
       "      <td>85</td>\n",
       "      <td>2</td>\n",
       "      <td>127</td>\n",
       "    </tr>\n",
       "    <tr>\n",
       "      <th>2</th>\n",
       "      <td>17</td>\n",
       "      <td>3</td>\n",
       "      <td>164</td>\n",
       "    </tr>\n",
       "    <tr>\n",
       "      <th>3</th>\n",
       "      <td>66</td>\n",
       "      <td>72</td>\n",
       "      <td>353</td>\n",
       "    </tr>\n",
       "  </tbody>\n",
       "</table>\n",
       "</div>"
      ],
      "text/plain": [
       "Embarked   C   Q    S\n",
       "Pclass               \n",
       "1         85   2  127\n",
       "2         17   3  164\n",
       "3         66  72  353"
      ]
     },
     "execution_count": 42,
     "metadata": {},
     "output_type": "execute_result"
    }
   ],
   "source": [
    "pandas.crosstab(df[\"Pclass\"], df[\"Embarked\"])"
   ]
  },
  {
   "cell_type": "code",
   "execution_count": 43,
   "id": "2e445a2d",
   "metadata": {},
   "outputs": [
    {
     "data": {
      "text/html": [
       "<div>\n",
       "<style scoped>\n",
       "    .dataframe tbody tr th:only-of-type {\n",
       "        vertical-align: middle;\n",
       "    }\n",
       "\n",
       "    .dataframe tbody tr th {\n",
       "        vertical-align: top;\n",
       "    }\n",
       "\n",
       "    .dataframe thead th {\n",
       "        text-align: right;\n",
       "    }\n",
       "</style>\n",
       "<table border=\"1\" class=\"dataframe\">\n",
       "  <thead>\n",
       "    <tr style=\"text-align: right;\">\n",
       "      <th>Embarked</th>\n",
       "      <th>C</th>\n",
       "      <th>Q</th>\n",
       "      <th>S</th>\n",
       "      <th>All</th>\n",
       "    </tr>\n",
       "    <tr>\n",
       "      <th>Pclass</th>\n",
       "      <th></th>\n",
       "      <th></th>\n",
       "      <th></th>\n",
       "      <th></th>\n",
       "    </tr>\n",
       "  </thead>\n",
       "  <tbody>\n",
       "    <tr>\n",
       "      <th>1</th>\n",
       "      <td>85</td>\n",
       "      <td>2</td>\n",
       "      <td>127</td>\n",
       "      <td>214</td>\n",
       "    </tr>\n",
       "    <tr>\n",
       "      <th>2</th>\n",
       "      <td>17</td>\n",
       "      <td>3</td>\n",
       "      <td>164</td>\n",
       "      <td>184</td>\n",
       "    </tr>\n",
       "    <tr>\n",
       "      <th>3</th>\n",
       "      <td>66</td>\n",
       "      <td>72</td>\n",
       "      <td>353</td>\n",
       "      <td>491</td>\n",
       "    </tr>\n",
       "    <tr>\n",
       "      <th>All</th>\n",
       "      <td>168</td>\n",
       "      <td>77</td>\n",
       "      <td>644</td>\n",
       "      <td>889</td>\n",
       "    </tr>\n",
       "  </tbody>\n",
       "</table>\n",
       "</div>"
      ],
      "text/plain": [
       "Embarked    C   Q    S  All\n",
       "Pclass                     \n",
       "1          85   2  127  214\n",
       "2          17   3  164  184\n",
       "3          66  72  353  491\n",
       "All       168  77  644  889"
      ]
     },
     "execution_count": 43,
     "metadata": {},
     "output_type": "execute_result"
    }
   ],
   "source": [
    "pandas.crosstab(df[\"Pclass\"], df[\"Embarked\"], margins=True)"
   ]
  },
  {
   "cell_type": "code",
   "execution_count": 46,
   "id": "c7a4b61f",
   "metadata": {},
   "outputs": [
    {
     "data": {
      "text/html": [
       "<div>\n",
       "<style scoped>\n",
       "    .dataframe tbody tr th:only-of-type {\n",
       "        vertical-align: middle;\n",
       "    }\n",
       "\n",
       "    .dataframe tbody tr th {\n",
       "        vertical-align: top;\n",
       "    }\n",
       "\n",
       "    .dataframe thead th {\n",
       "        text-align: right;\n",
       "    }\n",
       "</style>\n",
       "<table border=\"1\" class=\"dataframe\">\n",
       "  <thead>\n",
       "    <tr style=\"text-align: right;\">\n",
       "      <th>Embarked</th>\n",
       "      <th>C</th>\n",
       "      <th>Q</th>\n",
       "      <th>S</th>\n",
       "      <th>All</th>\n",
       "    </tr>\n",
       "    <tr>\n",
       "      <th>Pclass</th>\n",
       "      <th></th>\n",
       "      <th></th>\n",
       "      <th></th>\n",
       "      <th></th>\n",
       "    </tr>\n",
       "  </thead>\n",
       "  <tbody>\n",
       "    <tr>\n",
       "      <th>1</th>\n",
       "      <td>0.095613</td>\n",
       "      <td>0.002250</td>\n",
       "      <td>0.142857</td>\n",
       "      <td>0.240720</td>\n",
       "    </tr>\n",
       "    <tr>\n",
       "      <th>2</th>\n",
       "      <td>0.019123</td>\n",
       "      <td>0.003375</td>\n",
       "      <td>0.184477</td>\n",
       "      <td>0.206974</td>\n",
       "    </tr>\n",
       "    <tr>\n",
       "      <th>3</th>\n",
       "      <td>0.074241</td>\n",
       "      <td>0.080990</td>\n",
       "      <td>0.397075</td>\n",
       "      <td>0.552306</td>\n",
       "    </tr>\n",
       "    <tr>\n",
       "      <th>All</th>\n",
       "      <td>0.188976</td>\n",
       "      <td>0.086614</td>\n",
       "      <td>0.724409</td>\n",
       "      <td>1.000000</td>\n",
       "    </tr>\n",
       "  </tbody>\n",
       "</table>\n",
       "</div>"
      ],
      "text/plain": [
       "Embarked         C         Q         S       All\n",
       "Pclass                                          \n",
       "1         0.095613  0.002250  0.142857  0.240720\n",
       "2         0.019123  0.003375  0.184477  0.206974\n",
       "3         0.074241  0.080990  0.397075  0.552306\n",
       "All       0.188976  0.086614  0.724409  1.000000"
      ]
     },
     "execution_count": 46,
     "metadata": {},
     "output_type": "execute_result"
    }
   ],
   "source": [
    "pandas.crosstab(df[\"Pclass\"], df[\"Embarked\"], margins=True, normalize=\"all\")"
   ]
  },
  {
   "cell_type": "code",
   "execution_count": 48,
   "id": "93469998",
   "metadata": {},
   "outputs": [
    {
     "data": {
      "text/html": [
       "<div>\n",
       "<style scoped>\n",
       "    .dataframe tbody tr th:only-of-type {\n",
       "        vertical-align: middle;\n",
       "    }\n",
       "\n",
       "    .dataframe tbody tr th {\n",
       "        vertical-align: top;\n",
       "    }\n",
       "\n",
       "    .dataframe thead th {\n",
       "        text-align: right;\n",
       "    }\n",
       "</style>\n",
       "<table border=\"1\" class=\"dataframe\">\n",
       "  <thead>\n",
       "    <tr style=\"text-align: right;\">\n",
       "      <th></th>\n",
       "      <th>Embarked</th>\n",
       "      <th>C</th>\n",
       "      <th>Q</th>\n",
       "      <th>S</th>\n",
       "      <th>All</th>\n",
       "    </tr>\n",
       "    <tr>\n",
       "      <th>Pclass</th>\n",
       "      <th>SibSp</th>\n",
       "      <th></th>\n",
       "      <th></th>\n",
       "      <th></th>\n",
       "      <th></th>\n",
       "    </tr>\n",
       "  </thead>\n",
       "  <tbody>\n",
       "    <tr>\n",
       "      <th rowspan=\"4\" valign=\"top\">1</th>\n",
       "      <th>0</th>\n",
       "      <td>55</td>\n",
       "      <td>0</td>\n",
       "      <td>80</td>\n",
       "      <td>135</td>\n",
       "    </tr>\n",
       "    <tr>\n",
       "      <th>1</th>\n",
       "      <td>28</td>\n",
       "      <td>1</td>\n",
       "      <td>42</td>\n",
       "      <td>71</td>\n",
       "    </tr>\n",
       "    <tr>\n",
       "      <th>2</th>\n",
       "      <td>2</td>\n",
       "      <td>1</td>\n",
       "      <td>2</td>\n",
       "      <td>5</td>\n",
       "    </tr>\n",
       "    <tr>\n",
       "      <th>3</th>\n",
       "      <td>0</td>\n",
       "      <td>0</td>\n",
       "      <td>3</td>\n",
       "      <td>3</td>\n",
       "    </tr>\n",
       "    <tr>\n",
       "      <th rowspan=\"4\" valign=\"top\">2</th>\n",
       "      <th>0</th>\n",
       "      <td>7</td>\n",
       "      <td>3</td>\n",
       "      <td>110</td>\n",
       "      <td>120</td>\n",
       "    </tr>\n",
       "    <tr>\n",
       "      <th>1</th>\n",
       "      <td>10</td>\n",
       "      <td>0</td>\n",
       "      <td>45</td>\n",
       "      <td>55</td>\n",
       "    </tr>\n",
       "    <tr>\n",
       "      <th>2</th>\n",
       "      <td>0</td>\n",
       "      <td>0</td>\n",
       "      <td>8</td>\n",
       "      <td>8</td>\n",
       "    </tr>\n",
       "    <tr>\n",
       "      <th>3</th>\n",
       "      <td>0</td>\n",
       "      <td>0</td>\n",
       "      <td>1</td>\n",
       "      <td>1</td>\n",
       "    </tr>\n",
       "    <tr>\n",
       "      <th rowspan=\"7\" valign=\"top\">3</th>\n",
       "      <th>0</th>\n",
       "      <td>47</td>\n",
       "      <td>56</td>\n",
       "      <td>248</td>\n",
       "      <td>351</td>\n",
       "    </tr>\n",
       "    <tr>\n",
       "      <th>1</th>\n",
       "      <td>15</td>\n",
       "      <td>10</td>\n",
       "      <td>58</td>\n",
       "      <td>83</td>\n",
       "    </tr>\n",
       "    <tr>\n",
       "      <th>2</th>\n",
       "      <td>4</td>\n",
       "      <td>2</td>\n",
       "      <td>9</td>\n",
       "      <td>15</td>\n",
       "    </tr>\n",
       "    <tr>\n",
       "      <th>3</th>\n",
       "      <td>0</td>\n",
       "      <td>0</td>\n",
       "      <td>12</td>\n",
       "      <td>12</td>\n",
       "    </tr>\n",
       "    <tr>\n",
       "      <th>4</th>\n",
       "      <td>0</td>\n",
       "      <td>4</td>\n",
       "      <td>14</td>\n",
       "      <td>18</td>\n",
       "    </tr>\n",
       "    <tr>\n",
       "      <th>5</th>\n",
       "      <td>0</td>\n",
       "      <td>0</td>\n",
       "      <td>5</td>\n",
       "      <td>5</td>\n",
       "    </tr>\n",
       "    <tr>\n",
       "      <th>8</th>\n",
       "      <td>0</td>\n",
       "      <td>0</td>\n",
       "      <td>7</td>\n",
       "      <td>7</td>\n",
       "    </tr>\n",
       "    <tr>\n",
       "      <th>All</th>\n",
       "      <th></th>\n",
       "      <td>168</td>\n",
       "      <td>77</td>\n",
       "      <td>644</td>\n",
       "      <td>889</td>\n",
       "    </tr>\n",
       "  </tbody>\n",
       "</table>\n",
       "</div>"
      ],
      "text/plain": [
       "Embarked        C   Q    S  All\n",
       "Pclass SibSp                   \n",
       "1      0       55   0   80  135\n",
       "       1       28   1   42   71\n",
       "       2        2   1    2    5\n",
       "       3        0   0    3    3\n",
       "2      0        7   3  110  120\n",
       "       1       10   0   45   55\n",
       "       2        0   0    8    8\n",
       "       3        0   0    1    1\n",
       "3      0       47  56  248  351\n",
       "       1       15  10   58   83\n",
       "       2        4   2    9   15\n",
       "       3        0   0   12   12\n",
       "       4        0   4   14   18\n",
       "       5        0   0    5    5\n",
       "       8        0   0    7    7\n",
       "All           168  77  644  889"
      ]
     },
     "execution_count": 48,
     "metadata": {},
     "output_type": "execute_result"
    }
   ],
   "source": [
    "pandas.crosstab([df[\"Pclass\"], df[\"SibSp\"]], df[\"Embarked\"], margins=True)"
   ]
  },
  {
   "cell_type": "markdown",
   "id": "dee7aa81",
   "metadata": {},
   "source": [
    "La fonction `pandas.crosstab()` exige deux arguments :\n",
    "- en premier ce que vous allez mettre en ligne\n",
    "- en deuxième ce que vous allez mettre en colonne\n",
    "\n",
    "Il existe d'autres arguments optionnels :\n",
    "- `margins=True` fait apparaître les marges (Total)\n",
    "- `normalize='all'` donne les fréquences au lieu des effectifs ; il existe aussi `normalize='index'` ou `normalize='columns'` pour afficher les fréquences conditionnelles en lignes ou en colonnes respectivement"
   ]
  },
  {
   "cell_type": "markdown",
   "id": "ba8e3313",
   "metadata": {},
   "source": [
    "__Question__ : Affichez le tableau croisé des survivants (en colonnes) par rapport au sexe (en lignes). __Affichez toujours la marge.__\n",
    "Vous ferez trois tableaux comme précisé dans les cases ci-dessous."
   ]
  },
  {
   "cell_type": "code",
   "execution_count": null,
   "id": "42400a77",
   "metadata": {},
   "outputs": [],
   "source": [
    "# À la ligne suivante, faites les tableau des fréquences :\n"
   ]
  },
  {
   "cell_type": "code",
   "execution_count": null,
   "id": "aea0e408",
   "metadata": {},
   "outputs": [],
   "source": [
    "# À la ligne suivante, faites les tableau des fréquences conditionnelles en ligne :\n"
   ]
  },
  {
   "cell_type": "code",
   "execution_count": null,
   "id": "048f701f",
   "metadata": {},
   "outputs": [],
   "source": [
    "# À la ligne suivante, faites les tableau des fréquences conditionnelles en colonne :\n"
   ]
  },
  {
   "cell_type": "markdown",
   "id": "cf1fe022",
   "metadata": {},
   "source": [
    "__Question__ : Répondez aux questions ci-dessous."
   ]
  },
  {
   "cell_type": "markdown",
   "id": "1f8b58ac",
   "metadata": {},
   "source": [
    "Fréquence marginale des hommes : \n",
    "Fréquence conditionnelle des survivants parmi les femmes : \n",
    "Fréquence conditionnelle des hommes parmi les survivants : "
   ]
  },
  {
   "cell_type": "markdown",
   "id": "7ad1278a",
   "metadata": {},
   "source": [
    "## V Tableau croisé par intervalles"
   ]
  },
  {
   "cell_type": "markdown",
   "id": "19a5116c",
   "metadata": {},
   "source": [
    "Nous allons afficher les fréquences de survie selon le sexe __et__ l'âge.\n",
    "Pour cela, nous allons découper la colonne Age en intervalles de 25 ans."
   ]
  },
  {
   "cell_type": "markdown",
   "id": "bce6c410",
   "metadata": {},
   "source": [
    "Pour découper une coloone, on utilise la fonction `pandas.cut()` qui prend en premier argument la colonne à découper.\n",
    "\n",
    "Elle possède un autre argument `bins` qu'on peut régler sur la découpe souhaitée. Par exemple :"
   ]
  },
  {
   "cell_type": "code",
   "execution_count": 49,
   "id": "02d4e5c9",
   "metadata": {},
   "outputs": [
    {
     "data": {
      "text/plain": [
       "0       (0, 25]\n",
       "1      (25, 50]\n",
       "2      (25, 50]\n",
       "3      (25, 50]\n",
       "4      (25, 50]\n",
       "         ...   \n",
       "886    (25, 50]\n",
       "887     (0, 25]\n",
       "888    (25, 50]\n",
       "889    (25, 50]\n",
       "890    (25, 50]\n",
       "Name: Age, Length: 891, dtype: category\n",
       "Categories (4, interval[int64, right]): [(0, 25] < (25, 50] < (50, 75] < (75, 100]]"
      ]
     },
     "execution_count": 49,
     "metadata": {},
     "output_type": "execute_result"
    }
   ],
   "source": [
    "pandas.cut(df[\"Age\"], bins=[0,25,50,75,100])"
   ]
  },
  {
   "cell_type": "markdown",
   "id": "63f8c7c5",
   "metadata": {},
   "source": [
    "Vous observez que l'âge a été remplacé par le bon intervalle. Utilisons donc cela dans un tableau croisé."
   ]
  },
  {
   "cell_type": "code",
   "execution_count": 50,
   "id": "1d1f014c",
   "metadata": {},
   "outputs": [
    {
     "data": {
      "text/html": [
       "<div>\n",
       "<style scoped>\n",
       "    .dataframe tbody tr th:only-of-type {\n",
       "        vertical-align: middle;\n",
       "    }\n",
       "\n",
       "    .dataframe tbody tr th {\n",
       "        vertical-align: top;\n",
       "    }\n",
       "\n",
       "    .dataframe thead th {\n",
       "        text-align: right;\n",
       "    }\n",
       "</style>\n",
       "<table border=\"1\" class=\"dataframe\">\n",
       "  <thead>\n",
       "    <tr style=\"text-align: right;\">\n",
       "      <th></th>\n",
       "      <th>Survived</th>\n",
       "      <th>0</th>\n",
       "      <th>1</th>\n",
       "      <th>All</th>\n",
       "    </tr>\n",
       "    <tr>\n",
       "      <th>Age</th>\n",
       "      <th>Sex</th>\n",
       "      <th></th>\n",
       "      <th></th>\n",
       "      <th></th>\n",
       "    </tr>\n",
       "  </thead>\n",
       "  <tbody>\n",
       "    <tr>\n",
       "      <th rowspan=\"2\" valign=\"top\">(0, 25]</th>\n",
       "      <th>female</th>\n",
       "      <td>35</td>\n",
       "      <td>87</td>\n",
       "      <td>122</td>\n",
       "    </tr>\n",
       "    <tr>\n",
       "      <th>male</th>\n",
       "      <td>142</td>\n",
       "      <td>37</td>\n",
       "      <td>179</td>\n",
       "    </tr>\n",
       "    <tr>\n",
       "      <th rowspan=\"2\" valign=\"top\">(25, 50]</th>\n",
       "      <th>female</th>\n",
       "      <td>45</td>\n",
       "      <td>130</td>\n",
       "      <td>175</td>\n",
       "    </tr>\n",
       "    <tr>\n",
       "      <th>male</th>\n",
       "      <td>285</td>\n",
       "      <td>66</td>\n",
       "      <td>351</td>\n",
       "    </tr>\n",
       "    <tr>\n",
       "      <th rowspan=\"2\" valign=\"top\">(50, 75]</th>\n",
       "      <th>female</th>\n",
       "      <td>1</td>\n",
       "      <td>16</td>\n",
       "      <td>17</td>\n",
       "    </tr>\n",
       "    <tr>\n",
       "      <th>male</th>\n",
       "      <td>41</td>\n",
       "      <td>5</td>\n",
       "      <td>46</td>\n",
       "    </tr>\n",
       "    <tr>\n",
       "      <th>(75, 100]</th>\n",
       "      <th>male</th>\n",
       "      <td>0</td>\n",
       "      <td>1</td>\n",
       "      <td>1</td>\n",
       "    </tr>\n",
       "    <tr>\n",
       "      <th>All</th>\n",
       "      <th></th>\n",
       "      <td>549</td>\n",
       "      <td>342</td>\n",
       "      <td>891</td>\n",
       "    </tr>\n",
       "  </tbody>\n",
       "</table>\n",
       "</div>"
      ],
      "text/plain": [
       "Survived            0    1  All\n",
       "Age       Sex                  \n",
       "(0, 25]   female   35   87  122\n",
       "          male    142   37  179\n",
       "(25, 50]  female   45  130  175\n",
       "          male    285   66  351\n",
       "(50, 75]  female    1   16   17\n",
       "          male     41    5   46\n",
       "(75, 100] male      0    1    1\n",
       "All               549  342  891"
      ]
     },
     "execution_count": 50,
     "metadata": {},
     "output_type": "execute_result"
    }
   ],
   "source": [
    "pandas.crosstab([pandas.cut(df[\"Age\"], bins=[0,25,50,75,100]), df[\"Sex\"]], df[\"Survived\"], margins=True)"
   ]
  },
  {
   "cell_type": "markdown",
   "id": "86a1c406",
   "metadata": {},
   "source": [
    "__Question__ : En copiant et modifiant le code ci-dessus, faites ce qui est demandé."
   ]
  },
  {
   "cell_type": "code",
   "execution_count": null,
   "id": "006fcb25",
   "metadata": {},
   "outputs": [],
   "source": [
    "# À la ligne suivante, faites les tableau des fréquences conditionnelles en ligne :\n"
   ]
  },
  {
   "cell_type": "code",
   "execution_count": null,
   "id": "eda00d1d",
   "metadata": {},
   "outputs": [],
   "source": [
    "# À la ligne suivante, faites les tableau des fréquences conditionnelles en colonnes :\n"
   ]
  },
  {
   "cell_type": "markdown",
   "id": "5a926545",
   "metadata": {},
   "source": [
    "__Question__ : Répondez aux questions suivantes."
   ]
  },
  {
   "cell_type": "markdown",
   "id": "9fe4e112",
   "metadata": {},
   "source": [
    "Donnez les fréquences conditionnelles\n",
    "\n",
    "des survivants parmi les femmes de 25 ans ou moins : \n",
    "des survivants parmi les femmes de 25 à 50 ans : \n",
    "des survivants parmi les femmes de 50 à 75 ans : \n",
    "des survivants parmi les hommes de 25 ans ou moins : \n",
    "des survivants parmi les hommes de 25 à 50 ans : \n",
    "des survivants parmi les hommes de 50 à 75 ans : \n",
    "des hommes de 25 ou moins parmi les survivants : \n",
    "des femmes de 25 ou moins parmi les survivants : "
   ]
  },
  {
   "cell_type": "markdown",
   "id": "f4804074",
   "metadata": {},
   "source": [
    "## VI Histogramme"
   ]
  },
  {
   "cell_type": "markdown",
   "id": "feb4aabf",
   "metadata": {},
   "source": [
    "La ligne suivante dresse l'histogramme des survivants selon le sexe et l'âge."
   ]
  },
  {
   "cell_type": "code",
   "execution_count": 59,
   "id": "e77670ff",
   "metadata": {
    "scrolled": false
   },
   "outputs": [
    {
     "data": {
      "text/plain": [
       "<AxesSubplot:ylabel='Frequency'>"
      ]
     },
     "execution_count": 59,
     "metadata": {},
     "output_type": "execute_result"
    },
    {
     "data": {
      "image/png": "[encoded data removed]",
      "text/plain": [
       "<Figure size 432x288 with 1 Axes>"
      ]
     },
     "metadata": {
      "needs_background": "light"
     },
     "output_type": "display_data"
    }
   ],
   "source": [
    "df.pivot(columns=[\"Survived\", \"Sex\"])[\"Age\"].plot.hist(stacked=True, bins=[0,10,20,30,40,50,60,70,80,90,100])"
   ]
  },
  {
   "cell_type": "markdown",
   "id": "b345ccd4",
   "metadata": {},
   "source": [
    "__Question__ : Quelle couleur représente les hommes survivants dans votre histogramme ?"
   ]
  },
  {
   "cell_type": "markdown",
   "id": "ec0d76b9",
   "metadata": {},
   "source": [
    "Réponse : "
   ]
  }
 ],
 "metadata": {
  "kernelspec": {
   "display_name": "Python 3",
   "language": "python",
   "name": "python3"
  },
  "language_info": {
   "codemirror_mode": {
    "name": "ipython",
    "version": 3
   },
   "file_extension": ".py",
   "mimetype": "text/x-python",
   "name": "python",
   "nbconvert_exporter": "python",
   "pygments_lexer": "ipython3",
   "version": "3.9.7"
  }
 },
 "nbformat": 4,
 "nbformat_minor": 5
}
